{
 "cells": [
  {
   "cell_type": "code",
   "id": "initial_id",
   "metadata": {
    "collapsed": true,
    "ExecuteTime": {
     "end_time": "2024-12-27T11:54:41.831569Z",
     "start_time": "2024-12-27T11:54:41.779368Z"
    }
   },
   "source": [
    "import json5 as json\n",
    "from attr.validators import max_len\n",
    "\n",
    "obj = json.load(open(\"/Users/forna/Library/Application Support/JetBrains/PyCharm2024.3/scratches/scratch_5.json\", \"r\"))"
   ],
   "outputs": [],
   "execution_count": 5
  },
  {
   "metadata": {
    "ExecuteTime": {
     "end_time": "2024-12-27T11:54:42.837732Z",
     "start_time": "2024-12-27T11:54:42.834306Z"
    }
   },
   "cell_type": "code",
   "source": "obj.items()",
   "id": "616866a2ebb4dd9b",
   "outputs": [
    {
     "data": {
      "text/plain": [
       "dict_items([('name', 'llama.cpp'), ('expanded', False), ('children', [{'name': 'convert_lora_to_gguf.py', 'size': '16.4KiB', 'state': 'unopened'}, {'name': '.flake8', 'size': '544.0B', 'state': 'unopened', 'useful': False}, {'name': '.ecrc', 'size': '97.0B', 'state': 'unopened', 'useful': False}, {'name': 'flake.lock', 'size': '1.5KiB', 'state': 'unopened'}, {'name': 'CMakeLists.txt', 'size': '7.1KiB', 'state': 'unopened'}, {'name': '.DS_Store', 'size': '6.0KiB', 'state': 'unopened'}, {'name': '.devops', 'children': [], 'expanded': False, 'useful': False}, {'name': 'pyrightconfig.json', 'size': '619.0B', 'state': 'unopened'}, {'name': 'LICENSE', 'size': '1.1KiB', 'state': 'unopened'}, {'name': 'requirements.txt', 'size': '505.0B', 'state': 'unopened'}, {'name': 'cmake', 'children': [], 'expanded': False}, {'name': 'AUTHORS', 'size': '40.7KiB', 'state': 'unopened'}, {'name': '.pre-commit-config.yaml', 'size': '447.0B', 'state': 'unopened', 'useful': False}, {'name': 'Makefile', 'size': '48.9KiB', 'state': 'unopened'}, {'name': 'ci', 'children': [], 'expanded': False}, {'name': 'include', 'children': [], 'expanded': False}, {'name': 'CODEOWNERS', 'size': '124.0B', 'state': 'unopened'}, {'name': 'pyproject.toml', 'size': '1.2KiB', 'state': 'unopened'}, {'name': '.clang-tidy', 'size': '860.0B', 'state': 'unopened', 'useful': False}, {'name': 'gguf-py', 'children': [], 'expanded': False}, {'name': 'tests', 'children': [], 'expanded': False}, {'name': 'models', 'children': [], 'expanded': False}, {'name': 'requirements', 'children': [], 'expanded': False}, {'name': 'docs', 'children': [], 'expanded': False}, {'name': '.gitmodules', 'size': '107.0B', 'state': 'unopened', 'useful': False}, {'name': '.editorconfig', 'size': '806.0B', 'state': 'unopened', 'useful': False}, {'name': 'README.md', 'size': '23.2KiB', 'state': 'unopened'}, {'name': 'CMakePresets.json', 'size': '4.0KiB', 'state': 'unopened'}, {'name': 'grammars', 'children': [], 'expanded': False}, {'name': 'mypy.ini', 'size': '163.0B', 'state': 'unopened'}, {'name': 'common', 'children': [], 'expanded': False}, {'name': '.dockerignore', 'size': '237.0B', 'state': 'unopened', 'useful': False}, {'name': '.gitignore', 'size': '1.6KiB', 'state': 'unopened', 'useful': False}, {'name': 'flake.nix', 'size': '7.3KiB', 'state': 'unopened'}, {'name': 'CONTRIBUTING.md', 'size': '2.5KiB', 'state': 'unopened'}, {'name': 'examples', 'children': [], 'expanded': False}, {'name': 'scripts', 'children': [], 'expanded': False}, {'name': '.clang-format', 'size': '4.6KiB', 'state': 'unopened', 'useful': False}, {'name': '.github', 'children': [], 'expanded': False, 'useful': False}, {'name': 'Package.swift', 'size': '2.5KiB', 'state': 'unopened'}, {'name': 'prompts', 'children': [], 'expanded': False}, {'name': 'convert_hf_to_gguf.py', 'size': '199.3KiB', 'state': 'unopened'}, {'name': 'convert_llama_ggml_to_gguf.py', 'size': '18.7KiB', 'state': 'unopened'}, {'name': 'build', 'children': [], 'expanded': False}, {'name': 'poetry.lock', 'size': '121.9KiB', 'state': 'unopened'}, {'name': '.git', 'children': [], 'expanded': False, 'useful': False}, {'name': 'ggml', 'children': [], 'expanded': False}, {'name': 'convert_hf_to_gguf_update.py', 'size': '16.0KiB', 'state': 'unopened'}, {'name': 'SECURITY.md', 'size': '5.0KiB', 'state': 'unopened'}, {'name': 'spm-headers', 'children': [], 'expanded': False}, {'name': 'media', 'children': [], 'expanded': False}, {'name': 'src', 'children': [], 'expanded': False}, {'name': 'pocs', 'children': [], 'expanded': False}])])"
      ]
     },
     "execution_count": 6,
     "metadata": {},
     "output_type": "execute_result"
    }
   ],
   "execution_count": 6
  },
  {
   "metadata": {},
   "cell_type": "code",
   "outputs": [],
   "execution_count": null,
   "source": [
    "max_length = 120\n",
    "minified = json.dumps(file)\n",
    "\n",
    "if len(minified) > max_length:\n",
    "    for k,v in obj.items():\n",
    "        if len(json.dumps(v)) > max_length:\n",
    "            obj[k] = str(v)[:max_length] + \"...\"\n",
    "        else:\n",
    "            obj[k] = v\n",
    "\n",
    "def minify_node(node):\n",
    "    minified = json.dumps(node)\n",
    "    if len(minified) < max_length:\n",
    "        return node\n",
    "\n",
    "    resulting_node = {}\n",
    "    for k,v in node.items():\n"
   ],
   "id": "7a4a70715f166bc6"
  }
 ],
 "metadata": {
  "kernelspec": {
   "display_name": "Python 3",
   "language": "python",
   "name": "python3"
  },
  "language_info": {
   "codemirror_mode": {
    "name": "ipython",
    "version": 2
   },
   "file_extension": ".py",
   "mimetype": "text/x-python",
   "name": "python",
   "nbconvert_exporter": "python",
   "pygments_lexer": "ipython2",
   "version": "2.7.6"
  }
 },
 "nbformat": 4,
 "nbformat_minor": 5
}
