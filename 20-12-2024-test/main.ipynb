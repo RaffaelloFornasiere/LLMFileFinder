{
 "cells": [
  {
   "metadata": {
    "ExecuteTime": {
     "end_time": "2024-12-28T16:27:35.717569Z",
     "start_time": "2024-12-28T16:27:35.682029Z"
    }
   },
   "cell_type": "code",
   "source": [
    "import json5 as json\n",
    "import os\n",
    "from utils import *\n",
    "from bash_commands import *\n",
    "from actions import *\n",
    "%load_ext autoreload\n",
    "%autoreload 2\n",
    "\n",
    "system_message = open(\"system_message.md\", \"r\").read()\n",
    "user_message = open(\"user_message.md\", \"r\").read()"
   ],
   "id": "9652c9deab282d4d",
   "outputs": [
    {
     "name": "stdout",
     "output_type": "stream",
     "text": [
      "The autoreload extension is already loaded. To reload it, use:\n",
      "  %reload_ext autoreload\n"
     ]
    }
   ],
   "execution_count": 253
  },
  {
   "metadata": {
    "ExecuteTime": {
     "end_time": "2024-12-27T16:20:38.772444Z",
     "start_time": "2024-12-27T16:20:38.759563Z"
    }
   },
   "cell_type": "code",
   "source": [
    "tree = FileNavigator(\"jpalioapp\", \"/Users/forna/Documents/me/palio\")\n",
    "\n",
    "operation_history = []\n",
    "\n",
    "model = \"qwen2.5-coder-14b-instruct\"\n",
    "objective = \"Find the game rest controller file/s\""
   ],
   "id": "76a045b8f244f4fe",
   "outputs": [],
   "execution_count": 185
  },
  {
   "metadata": {
    "ExecuteTime": {
     "end_time": "2024-12-27T16:20:39.645815Z",
     "start_time": "2024-12-27T16:20:39.633497Z"
    }
   },
   "cell_type": "code",
   "source": "print(tree.print())",
   "id": "501ed8167f235385",
   "outputs": [
    {
     "name": "stdout",
     "output_type": "stream",
     "text": [
      "\n",
      "- jpalioapp (expanded: False)\n"
     ]
    }
   ],
   "execution_count": 186
  },
  {
   "metadata": {
    "ExecuteTime": {
     "end_time": "2024-12-27T16:24:23.983514Z",
     "start_time": "2024-12-27T16:24:23.970650Z"
    }
   },
   "cell_type": "code",
   "source": [
    "print(user_message.format(tree=tree.print(),\n",
    "                          operation_history='\\n'.join(operation_history),\n",
    "                          objective=objective))"
   ],
   "id": "e75f749ea9ec8674",
   "outputs": [
    {
     "name": "stdout",
     "output_type": "stream",
     "text": [
      "### Current Tree State:\n",
      "\n",
      "- jpalioapp (expanded: False)\n",
      "  - .husky (expanded: False)\n",
      "  - .DS_Store (state: unopened) (size: 6.0KiB)\n",
      "  - tsconfig.app.json (state: unopened) (size: 220.0B)\n",
      "  - mvnw.cmd (state: unopened) (size: 6.8KiB)\n",
      "  - npmw.cmd (state: unopened) (size: 1.1KiB)\n",
      "  - target (expanded: False)\n",
      "  - .yo-rc.json (state: unopened) (size: 1.4KiB)\n",
      "  - node_modules (expanded: False)\n",
      "  - pom.xml (state: unopened) (size: 59.3KiB)\n",
      "  - .devcontainer (expanded: False)\n",
      "  - .prettierignore (state: unopened) (size: 134.0B)\n",
      "  - .editorconfig (state: unopened) (size: 489.0B)\n",
      "  - README.md (state: unopened) (size: 10.4KiB)\n",
      "  - jpalioapp.jdl (state: unopened) (size: 465.0B)\n",
      "  - angular.json (state: unopened) (size: 3.3KiB)\n",
      "  - webpack (expanded: False)\n",
      "  - sonar-project.properties (state: unopened) (size: 3.3KiB)\n",
      "  - ngsw-config.json (state: unopened) (size: 530.0B)\n",
      "  - .gitignore (state: unopened) (size: 2.0KiB)\n",
      "  - package-lock.json (state: unopened) (size: 878.4KiB)\n",
      "  - package.json (state: unopened) (size: 7.2KiB)\n",
      "  - .mvn (expanded: False)\n",
      "  - .jhipster (expanded: False)\n",
      "  - .prettierrc (state: unopened) (size: 231.0B)\n",
      "  - .gitattributes (state: unopened) (size: 3.3KiB)\n",
      "  - checkstyle.xml (state: unopened) (size: 924.0B)\n",
      "  - npmw (state: unopened) (size: 973.0B)\n",
      "  - tsconfig.json (state: unopened) (size: 906.0B)\n",
      "  - venv (expanded: False)\n",
      "  - .git (expanded: False)\n",
      "  - .lintstagedrc.cjs (state: unopened) (size: 112.0B)\n",
      "  - mvnw (state: unopened) (size: 10.1KiB)\n",
      "  - openapi.json (state: unopened) (size: 96.3KiB)\n",
      "  - eslint.config.mjs (state: unopened) (size: 4.5KiB)\n",
      "  - tsconfig.spec.json (state: unopened) (size: 195.0B)\n",
      "  - jest.conf.js (state: unopened) (size: 1.1KiB)\n",
      "  - .idea (expanded: False)\n",
      "  - src (expanded: False)\n",
      "    - test (expanded: False)\n",
      "    - main (expanded: False)\n",
      "      - docker (expanded: False)\n",
      "      - LLM_I (expanded: False)\n",
      "      - resources (expanded: False)\n",
      "      - webapp (expanded: False)\n",
      "      - java (expanded: False)\n",
      "        - it (expanded: False)\n",
      "          - rf (expanded: False)\n",
      "            - jpalioapp (expanded: False)\n",
      "              - GeneratedByJHipster.java (state: unopened) (size: 405.0B)\n",
      "              - repository (expanded: False)\n",
      "              - config (expanded: False)\n",
      "              - security (expanded: False)\n",
      "              - web (expanded: False)\n",
      "              - management (expanded: False)\n",
      "              - aop (expanded: False)\n",
      "              - JpalioappApp.java (state: unopened) (size: 4.2KiB)\n",
      "              - ApplicationWebXml.java (state: unopened) (size: 805.0B)\n",
      "              - service (expanded: False)\n",
      "              - domain (expanded: False)\n",
      "              - package-info.java (state: unopened) (size: 54.0B)\n",
      "\n",
      "### Summarized History:\n",
      "{action: \"expand\", node: \"jpalioapp\", short_comment: \"The 'jpalioapp' folder is likely to contain the game rest controller file/s. Expanding it will reveal its contents.\"}\n",
      "{action: \"expand\", node: \"jpalioapp/src\", short_comment: \"The 'src' folder is likely to contain the source code for the game rest controller. Expanding it will reveal its contents.\"}\n",
      "{action: \"expand\", node: \"jpalioapp/src/main\", short_comment: \"The 'src/main' folder is likely to contain the main source code for the application, including the game rest controller. Expanding it will reveal its contents.\"}\n",
      "{action: \"expand\", node: \"jpalioapp/src/main/java\", short_comment: \"The 'src/main/java' folder is a common location for Java source code, including controllers. Expanding it will help locate the game rest controller file/s.\"}\n",
      "{action: \"expand\", node: \"jpalioapp/src/main/java/it\", short_comment: \"The 'src/main/java/it' folder is likely to contain integration test files that may reference the game rest controller. Expanding this will help identify relevant controller files.\"}\n",
      "{action: \"expand\", node: \"jpalioapp/src/main/java/it/rf\", short_comment: \"The 'src/main/java/it/rf' folder is the most specific path we have identified so far for potentially finding the game rest controller file. Expanding this will help us locate the relevant controller files.\"}\n",
      "{action: \"expand\", node: \"jpalioapp/src/main/java/it/rf/jpalioapp\", short_comment: \"The 'src/main/java/it/rf/jpalioapp' folder is the most specific path we have identified for potentially finding the game rest controller file. Expanding this will help us locate the relevant controller files.\"}\n",
      "\n",
      "### Main Objective:\n",
      "Find the game rest controller file/s\n",
      "\n",
      "### Query:\n",
      "Based on the current state, which node should I explore next, and why?\n"
     ]
    }
   ],
   "execution_count": 235
  },
  {
   "metadata": {
    "ExecuteTime": {
     "end_time": "2025-01-03T10:39:15.407875Z",
     "start_time": "2025-01-03T10:39:15.372599Z"
    }
   },
   "cell_type": "code",
   "source": "tree.tree",
   "id": "5af7bfe6df951f12",
   "outputs": [
    {
     "data": {
      "text/plain": [
       "{'name': 'jpalioapp',\n",
       " 'expanded': False,\n",
       " 'children': [{'name': '.husky', 'children': [], 'expanded': False},\n",
       "  {'name': '.DS_Store', 'size': '6.0KiB', 'state': 'unopened'},\n",
       "  {'name': 'tsconfig.app.json', 'size': '220.0B', 'state': 'unopened'},\n",
       "  {'name': 'mvnw.cmd', 'size': '6.8KiB', 'state': 'unopened'},\n",
       "  {'name': 'npmw.cmd', 'size': '1.1KiB', 'state': 'unopened'},\n",
       "  {'name': 'target', 'children': [], 'expanded': False},\n",
       "  {'name': '.yo-rc.json', 'size': '1.4KiB', 'state': 'unopened'},\n",
       "  {'name': 'node_modules', 'children': [], 'expanded': False},\n",
       "  {'name': 'pom.xml', 'size': '59.3KiB', 'state': 'unopened'},\n",
       "  {'name': '.devcontainer', 'children': [], 'expanded': False},\n",
       "  {'name': '.prettierignore', 'size': '134.0B', 'state': 'unopened'},\n",
       "  {'name': '.editorconfig', 'size': '489.0B', 'state': 'unopened'},\n",
       "  {'name': 'README.md', 'size': '10.4KiB', 'state': 'unopened'},\n",
       "  {'name': 'jpalioapp.jdl', 'size': '465.0B', 'state': 'unopened'},\n",
       "  {'name': 'angular.json', 'size': '3.3KiB', 'state': 'unopened'},\n",
       "  {'name': 'webpack', 'children': [], 'expanded': False},\n",
       "  {'name': 'sonar-project.properties', 'size': '3.3KiB', 'state': 'unopened'},\n",
       "  {'name': 'ngsw-config.json', 'size': '530.0B', 'state': 'unopened'},\n",
       "  {'name': '.gitignore', 'size': '2.0KiB', 'state': 'unopened'},\n",
       "  {'name': 'package-lock.json', 'size': '878.4KiB', 'state': 'unopened'},\n",
       "  {'name': 'package.json', 'size': '7.2KiB', 'state': 'unopened'},\n",
       "  {'name': '.mvn', 'children': [], 'expanded': False},\n",
       "  {'name': '.jhipster', 'children': [], 'expanded': False},\n",
       "  {'name': '.prettierrc', 'size': '231.0B', 'state': 'unopened'},\n",
       "  {'name': '.gitattributes', 'size': '3.3KiB', 'state': 'unopened'},\n",
       "  {'name': 'checkstyle.xml', 'size': '924.0B', 'state': 'unopened'},\n",
       "  {'name': 'npmw', 'size': '973.0B', 'state': 'unopened'},\n",
       "  {'name': 'tsconfig.json', 'size': '906.0B', 'state': 'unopened'},\n",
       "  {'name': 'venv', 'children': [], 'expanded': False},\n",
       "  {'name': '.git', 'children': [], 'expanded': False},\n",
       "  {'name': '.lintstagedrc.cjs', 'size': '112.0B', 'state': 'unopened'},\n",
       "  {'name': 'mvnw', 'size': '10.1KiB', 'state': 'unopened'},\n",
       "  {'name': 'openapi.json', 'size': '96.3KiB', 'state': 'unopened'},\n",
       "  {'name': 'eslint.config.mjs', 'size': '4.5KiB', 'state': 'unopened'},\n",
       "  {'name': 'tsconfig.spec.json', 'size': '195.0B', 'state': 'unopened'},\n",
       "  {'name': 'jest.conf.js', 'size': '1.1KiB', 'state': 'unopened'},\n",
       "  {'name': '.idea', 'children': [], 'expanded': False},\n",
       "  {'name': 'src',\n",
       "   'children': [{'name': 'test', 'children': [], 'expanded': False},\n",
       "    {'name': 'main',\n",
       "     'children': [{'name': 'docker', 'children': [], 'expanded': False},\n",
       "      {'name': 'LLM_I', 'children': [], 'expanded': False},\n",
       "      {'name': 'resources', 'children': [], 'expanded': False},\n",
       "      {'name': 'webapp', 'children': [], 'expanded': False},\n",
       "      {'name': 'java',\n",
       "       'children': [{'name': 'it',\n",
       "         'children': [{'name': 'rf',\n",
       "           'children': [{'name': 'jpalioapp',\n",
       "             'children': [{'name': 'GeneratedByJHipster.java',\n",
       "               'size': '405.0B',\n",
       "               'state': 'opened'},\n",
       "              {'name': 'repository', 'children': [], 'expanded': False},\n",
       "              {'name': 'config', 'children': [], 'expanded': False},\n",
       "              {'name': 'security', 'children': [], 'expanded': False},\n",
       "              {'name': 'web', 'children': [], 'expanded': False},\n",
       "              {'name': 'management', 'children': [], 'expanded': False},\n",
       "              {'name': 'aop', 'children': [], 'expanded': False},\n",
       "              {'name': 'JpalioappApp.java',\n",
       "               'size': '4.2KiB',\n",
       "               'state': 'unopened'},\n",
       "              {'name': 'ApplicationWebXml.java',\n",
       "               'size': '805.0B',\n",
       "               'state': 'unopened'},\n",
       "              {'name': 'service', 'children': [], 'expanded': False},\n",
       "              {'name': 'domain', 'children': [], 'expanded': False},\n",
       "              {'name': 'package-info.java',\n",
       "               'size': '54.0B',\n",
       "               'state': 'unopened'}],\n",
       "             'expanded': False}],\n",
       "           'expanded': False}],\n",
       "         'expanded': False}],\n",
       "       'expanded': False}],\n",
       "     'expanded': False}],\n",
       "   'expanded': False}]}"
      ]
     },
     "execution_count": 254,
     "metadata": {},
     "output_type": "execute_result"
    }
   ],
   "execution_count": 254
  },
  {
   "metadata": {
    "ExecuteTime": {
     "end_time": "2024-12-27T16:25:31.574110Z",
     "start_time": "2024-12-27T16:25:19.409467Z"
    }
   },
   "cell_type": "code",
   "source": [
    "messages = [\n",
    "    {\"role\": \"system\", \"content\": system_message},\n",
    "    {\"role\": \"user\", \"content\": user_message.format(tree=tree.print(),\n",
    "                                                    operation_history='\\n'.join(operation_history),\n",
    "                                                    objective=objective)},\n",
    "]\n",
    "\n",
    "response = get_response(messages, model, base_url)\n",
    "response_text = parse_response_text(response)\n",
    "action, errors, warning = tree.parse(response_text)"
   ],
   "id": "9775e9fd5a9f079a",
   "outputs": [],
   "execution_count": 239
  },
  {
   "metadata": {
    "ExecuteTime": {
     "end_time": "2024-12-27T16:44:18.422631Z",
     "start_time": "2024-12-27T16:44:18.412181Z"
    }
   },
   "cell_type": "code",
   "source": [
    "action[\"action\"] = \"open\"\n",
    "action[\"node\"] = \"jpalioapp/src/main/java/it/rf/jpalioapp/GeneratedByJHipster.java\""
   ],
   "id": "b3aedd3ce460fb6b",
   "outputs": [],
   "execution_count": 247
  },
  {
   "metadata": {
    "ExecuteTime": {
     "end_time": "2024-12-27T16:44:19.196471Z",
     "start_time": "2024-12-27T16:44:19.183967Z"
    }
   },
   "cell_type": "code",
   "source": "action, errors, warning",
   "id": "95e06454cb0b0e94",
   "outputs": [
    {
     "data": {
      "text/plain": [
       "({'action': 'open',\n",
       "  'node': 'jpalioapp/src/main/java/it/rf/jpalioapp/GeneratedByJHipster.java',\n",
       "  'short_comment': \"The 'GeneratedByJHipster.java' file is a potential candidate for the game rest controller as it could contain generated code related to the application's RESTful endpoints. Expanding this will help identify if it contains the necessary information.\"},\n",
       " ['Invalid node'],\n",
       " [])"
      ]
     },
     "execution_count": 248,
     "metadata": {},
     "output_type": "execute_result"
    }
   ],
   "execution_count": 248
  },
  {
   "metadata": {
    "ExecuteTime": {
     "end_time": "2024-12-27T16:44:22.151676Z",
     "start_time": "2024-12-27T16:44:22.139223Z"
    }
   },
   "cell_type": "code",
   "source": "tree.run(action)\n",
   "id": "3460f89d1f6b6441",
   "outputs": [],
   "execution_count": 249
  },
  {
   "metadata": {
    "ExecuteTime": {
     "end_time": "2024-12-27T16:44:26.558518Z",
     "start_time": "2024-12-27T16:44:26.545850Z"
    }
   },
   "cell_type": "code",
   "source": "operation_history.append(json.dumps(action))",
   "id": "3cf9f7ebdbd41c8d",
   "outputs": [],
   "execution_count": 250
  },
  {
   "metadata": {
    "ExecuteTime": {
     "end_time": "2024-12-28T13:56:00.434594Z",
     "start_time": "2024-12-28T13:56:00.405052Z"
    }
   },
   "cell_type": "code",
   "source": "print('\\n'.join(operation_history))",
   "id": "6b4274663b28d580",
   "outputs": [
    {
     "name": "stdout",
     "output_type": "stream",
     "text": [
      "{action: \"expand\", node: \"jpalioapp\", short_comment: \"The 'jpalioapp' folder is likely to contain the game rest controller file/s. Expanding it will reveal its contents.\"}\n",
      "{action: \"expand\", node: \"jpalioapp/src\", short_comment: \"The 'src' folder is likely to contain the source code for the game rest controller. Expanding it will reveal its contents.\"}\n",
      "{action: \"expand\", node: \"jpalioapp/src/main\", short_comment: \"The 'src/main' folder is likely to contain the main source code for the application, including the game rest controller. Expanding it will reveal its contents.\"}\n",
      "{action: \"expand\", node: \"jpalioapp/src/main/java\", short_comment: \"The 'src/main/java' folder is a common location for Java source code, including controllers. Expanding it will help locate the game rest controller file/s.\"}\n",
      "{action: \"expand\", node: \"jpalioapp/src/main/java/it\", short_comment: \"The 'src/main/java/it' folder is likely to contain integration test files that may reference the game rest controller. Expanding this will help identify relevant controller files.\"}\n",
      "{action: \"expand\", node: \"jpalioapp/src/main/java/it/rf\", short_comment: \"The 'src/main/java/it/rf' folder is the most specific path we have identified so far for potentially finding the game rest controller file. Expanding this will help us locate the relevant controller files.\"}\n",
      "{action: \"expand\", node: \"jpalioapp/src/main/java/it/rf/jpalioapp\", short_comment: \"The 'src/main/java/it/rf/jpalioapp' folder is the most specific path we have identified for potentially finding the game rest controller file. Expanding this will help us locate the relevant controller files.\"}\n",
      "{action: \"open\", node: \"jpalioapp/src/main/java/it/rf/jpalioapp/GeneratedByJHipster.java\", short_comment: \"The 'GeneratedByJHipster.java' file is a potential candidate for the game rest controller as it could contain generated code related to the application's RESTful endpoints. Expanding this will help identify if it contains the necessary information.\"}\n"
     ]
    }
   ],
   "execution_count": 252
  }
 ],
 "metadata": {
  "kernelspec": {
   "display_name": "Python 3",
   "language": "python",
   "name": "python3"
  },
  "language_info": {
   "codemirror_mode": {
    "name": "ipython",
    "version": 2
   },
   "file_extension": ".py",
   "mimetype": "text/x-python",
   "name": "python",
   "nbconvert_exporter": "python",
   "pygments_lexer": "ipython2",
   "version": "2.7.6"
  }
 },
 "nbformat": 4,
 "nbformat_minor": 5
}
